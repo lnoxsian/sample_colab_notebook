{
  "nbformat": 4,
  "nbformat_minor": 0,
  "metadata": {
    "colab": {
      "provenance": []
    },
    "kernelspec": {
      "name": "python3",
      "display_name": "Python 3"
    },
    "language_info": {
      "name": "python"
    }
  },
  "cells": [
    {
      "cell_type": "markdown",
      "source": [
        "# **Sample comments in python**"
      ],
      "metadata": {
        "id": "ykDZOQam8g4X"
      }
    },
    {
      "cell_type": "code",
      "source": [
        "# this is a comment 'single line'\n",
        "\n",
        "'''\n",
        "this is a comment\n",
        "'multi line'\n",
        "type some thing in a para graph if you want\n",
        "'''"
      ],
      "metadata": {
        "id": "Kw9z_CsW2l9j"
      },
      "execution_count": null,
      "outputs": []
    },
    {
      "cell_type": "markdown",
      "source": [
        "# **Sample Variable and datatypes**"
      ],
      "metadata": {
        "id": "Z-4JAV4_8_Ui"
      }
    },
    {
      "cell_type": "code",
      "source": [
        "_this_is_a_var1 = \"string\" # no err"
      ],
      "metadata": {
        "id": "7fynryib35n1"
      },
      "execution_count": null,
      "outputs": []
    },
    {
      "cell_type": "code",
      "source": [
        "1this_is_a_var = 10 # err"
      ],
      "metadata": {
        "id": "m0gpoPvm36zl"
      },
      "execution_count": null,
      "outputs": []
    },
    {
      "cell_type": "code",
      "source": [
        "my_name = \"some random string\"\n",
        "my_age = 10"
      ],
      "metadata": {
        "id": "loStUHmd3cCj"
      },
      "execution_count": null,
      "outputs": []
    },
    {
      "cell_type": "code",
      "source": [
        "type(my_age) # return the data object class"
      ],
      "metadata": {
        "id": "wPnOVCpCmwa7"
      },
      "execution_count": null,
      "outputs": []
    },
    {
      "cell_type": "code",
      "source": [
        "type(my_name) # return the python datatype class"
      ],
      "metadata": {
        "id": "GFs7iFYQJjW-"
      },
      "execution_count": null,
      "outputs": []
    },
    {
      "cell_type": "markdown",
      "source": [
        "# **Type Conversion**"
      ],
      "metadata": {
        "id": "L8kpCpT9qkf2"
      }
    },
    {
      "cell_type": "code",
      "source": [
        "a_int_value = 10\n",
        "i_need_it_to_be_float = float(a_int_value) # converts the value to float\n",
        "i_need_it_to_be_string = str(a_int_value) # converts the value to string\n",
        "i_need_it_to_be_bool = bool(a_int_value) # converts the value to bool\n",
        "i_need_it_to_be_complex = complex(a_int_value) # converts the value to complex"
      ],
      "metadata": {
        "id": "c3dqDkqmqrgh"
      },
      "execution_count": null,
      "outputs": []
    },
    {
      "cell_type": "markdown",
      "source": [
        "# **Sample io print statment**"
      ],
      "metadata": {
        "id": "gr0C2Ofy8zIA"
      }
    },
    {
      "cell_type": "code",
      "execution_count": null,
      "metadata": {
        "id": "kvCO5dL32XBk"
      },
      "outputs": [],
      "source": [
        "print(\"Hello world\") # sample output"
      ]
    },
    {
      "cell_type": "code",
      "source": [
        "some = input(\"tell me your age\")\n",
        "print(type(some))\n",
        "print(some)"
      ],
      "metadata": {
        "id": "NPBJlqKAJ581"
      },
      "execution_count": null,
      "outputs": []
    },
    {
      "cell_type": "markdown",
      "source": [
        "# **Sample io input statment**"
      ],
      "metadata": {
        "id": "D5eAAbHr9RPG"
      }
    },
    {
      "cell_type": "code",
      "source": [
        "# user input for age\n",
        "\n",
        "age = int(input(\"Enter you age\")) # remove the \"thing in the quotes\" and it still works\n",
        "\n",
        "print(age+1)"
      ],
      "metadata": {
        "id": "rxSx1CIl2zyx"
      },
      "execution_count": null,
      "outputs": []
    },
    {
      "cell_type": "code",
      "source": [
        "# user input for name\n",
        "\n",
        "name = input(\"Enter your name\") # remove the \"thing in the quotes\" and it still works\n",
        "\n",
        "print(name)"
      ],
      "metadata": {
        "id": "hjyGfBg72s9p"
      },
      "execution_count": null,
      "outputs": []
    },
    {
      "cell_type": "markdown",
      "source": [
        "# **Sample arthemetic operation**"
      ],
      "metadata": {
        "id": "z0wP1KCh9SMa"
      }
    },
    {
      "cell_type": "code",
      "source": [
        "let_a = 10\n",
        "let_b = 20\n",
        "\n",
        "# ret = let_a + let_b # adding\n",
        "# ret = let_a - let_b # subtracting\n",
        "# ret = let_a * let_b # multiplying\n",
        "# ret = let_a / let_b # division\n",
        "# ret = let_a // let_b # floor division\n",
        "# ret = let_a % let_b # modulus reminder"
      ],
      "metadata": {
        "id": "wsLgj8b94rYK"
      },
      "execution_count": null,
      "outputs": []
    },
    {
      "cell_type": "code",
      "source": [
        "print(ret)"
      ],
      "metadata": {
        "id": "75N6g0WRnrmW"
      },
      "execution_count": null,
      "outputs": []
    },
    {
      "cell_type": "markdown",
      "source": [
        "# **Sample conditional operation**"
      ],
      "metadata": {
        "id": "romSEhWP9TKP"
      }
    },
    {
      "cell_type": "code",
      "source": [
        "let_a = 10\n",
        "# let_b = 20\n",
        "let_b = 10\n",
        "\n",
        "ret_bool = let_a == let_b\n",
        "# ret_bool = let_a <= let_b\n",
        "# ret_bool = let_a => let_b\n",
        "# ret_bool = let_a < let_b\n",
        "# ret_bool = let_a > let_b"
      ],
      "metadata": {
        "id": "gb8PoxZx3BFO"
      },
      "execution_count": null,
      "outputs": []
    },
    {
      "cell_type": "code",
      "source": [
        "print(ret_bool)"
      ],
      "metadata": {
        "id": "r7qN6h2enkxn"
      },
      "execution_count": null,
      "outputs": []
    },
    {
      "cell_type": "markdown",
      "source": [
        "# **Sample boolean operation**"
      ],
      "metadata": {
        "id": "iHobCI_j9Tnk"
      }
    },
    {
      "cell_type": "code",
      "source": [
        "let_a = 10\n",
        "let_b = 20\n",
        "let_c = 30\n",
        "\n",
        "ret_bool = let_a > let_b and let_b > let_c\n",
        "# let_a > let_b or let_b > let_c\n",
        "# not let_b > let_c"
      ],
      "metadata": {
        "id": "qQNq_gLk4y0O"
      },
      "execution_count": 1,
      "outputs": []
    },
    {
      "cell_type": "code",
      "source": [
        "print(ret_bool)"
      ],
      "metadata": {
        "colab": {
          "base_uri": "https://localhost:8080/"
        },
        "id": "FcekuuGvngkm",
        "outputId": "96d97f43-d469-421e-c703-e014c2612683"
      },
      "execution_count": 2,
      "outputs": [
        {
          "output_type": "stream",
          "name": "stdout",
          "text": [
            "False\n"
          ]
        }
      ]
    },
    {
      "cell_type": "markdown",
      "source": [
        "# **Sample String**"
      ],
      "metadata": {
        "id": "hqa6H4ix9UAW"
      }
    },
    {
      "cell_type": "code",
      "source": [
        "a_small_string = \"this is a line of text or a bunch of words\" # sample input string\n",
        "print(\"-------------------------------\")\n",
        "print(a_small_string) # print the string\n",
        "print(\"-------------------------------\")\n",
        "print(a_small_string[0]) # print char index 0 value 't'\n",
        "print(\"-------------------------------\")\n",
        "print(a_small_string[0:4]) # print char from index value 0 to 3=(4-1)\n",
        "print(\"-------------------------------\")\n",
        "print(a_small_string[::2]) # print char from index value 0 to end but print every 2nd char\n",
        "print(\"-------------------------------\")"
      ],
      "metadata": {
        "id": "zT00xTBd5O3_"
      },
      "execution_count": null,
      "outputs": []
    },
    {
      "cell_type": "code",
      "source": [
        "a_small_string = \"this is a string\"\n",
        "print(a_small_string[0:4]) # print char from index value 0 to 3=(4-1)"
      ],
      "metadata": {
        "id": "gNOBoaWiSjZi"
      },
      "execution_count": null,
      "outputs": []
    },
    {
      "cell_type": "code",
      "source": [
        "print(f\"the list is {sample_list}\")\n",
        "print(f\"type of the input {type(sample_list)}\")"
      ],
      "metadata": {
        "id": "Bj0Z-IQ5oVdt"
      },
      "execution_count": null,
      "outputs": []
    },
    {
      "cell_type": "markdown",
      "source": [
        "# **Sample list statment**"
      ],
      "metadata": {
        "id": "r60AAWNo9UZ9"
      }
    },
    {
      "cell_type": "code",
      "source": [
        "a_small_list = [1, 2, 3, 4, 5]\n",
        "print(\"-------------------------------\")\n",
        "print(a_small_list) # print the list\n",
        "print(\"-------------------------------\")\n",
        "print(a_small_list[0]) # print the value at index 0\n",
        "print(\"-------------------------------\")\n",
        "print(a_small_list[0:4]) # print the values index from 0 to 3=(4-1)\n",
        "print(\"-------------------------------\")\n",
        "print(a_small_list[::2]) # print values from index value 0 to end but print every 2nd char\n",
        "print(\"-------------------------------\")"
      ],
      "metadata": {
        "id": "X_CcNg2b5X8t"
      },
      "execution_count": null,
      "outputs": []
    },
    {
      "cell_type": "code",
      "source": [
        "# taking user input for a list\n",
        "sample_list = list(eval(input(\"Enter the list here:\")))"
      ],
      "metadata": {
        "id": "7J2IIQWIoNxs"
      },
      "execution_count": null,
      "outputs": []
    },
    {
      "cell_type": "markdown",
      "source": [
        "# **Sample dict statment**"
      ],
      "metadata": {
        "id": "KH8VcpsK9U7C"
      }
    },
    {
      "cell_type": "code",
      "source": [
        "a_small_dict = {\"name\":\"andy\", \"age\":10}\n",
        "print(\"-------------------------------\")\n",
        "print(a_small_dict) # just prints the dict\n",
        "print(\"-------------------------------\")\n",
        "print(a_small_dict[\"name\"]) # just prints the value for key name\n",
        "print(\"-------------------------------\")\n",
        "print(a_small_dict[\"age\"]) # just prints the value for key age\n",
        "print(\"-------------------------------\")"
      ],
      "metadata": {
        "id": "FfmpSpNs5q1n"
      },
      "execution_count": null,
      "outputs": []
    },
    {
      "cell_type": "markdown",
      "source": [
        "# **Sample if-else statment**"
      ],
      "metadata": {
        "id": "IVs9smHn9VZt"
      }
    },
    {
      "cell_type": "code",
      "source": [
        "# this is if ... else\n",
        "\n",
        "# let_a = 10\n",
        "let_a = 1\n",
        "\n",
        "if let_a > 5:\n",
        "    print(\"let_a is greater than 5\")\n",
        "else:\n",
        "    print(\"let_a is less than 5\")"
      ],
      "metadata": {
        "id": "5xkDhfYa7TFW"
      },
      "execution_count": null,
      "outputs": []
    },
    {
      "cell_type": "markdown",
      "source": [
        "# **Sample while loop statment**"
      ],
      "metadata": {
        "id": "rhJvqiwv9V3j"
      }
    },
    {
      "cell_type": "code",
      "source": [
        "# this is a while loop for iterating 10 times\n",
        "\n",
        "let_a = 0\n",
        "c = 1\n",
        "while let_a < 10:\n",
        "    print(let_a,f\"{c} times\")\n",
        "    let_a = let_a + 1\n",
        "    c += 1"
      ],
      "metadata": {
        "id": "pmR1nFm272SY"
      },
      "execution_count": null,
      "outputs": []
    },
    {
      "cell_type": "markdown",
      "source": [
        "# **Sample for-loop statment**"
      ],
      "metadata": {
        "id": "ITstzlG79WWH"
      }
    },
    {
      "cell_type": "code",
      "source": [
        "# this is for loop\n",
        "c=1\n",
        "a=[1,2,3,5]\n",
        "for i in a:\n",
        "    print(i,f\"{c} times\")\n",
        "    c+=1"
      ],
      "metadata": {
        "id": "RWwZfTd-7aWh"
      },
      "execution_count": null,
      "outputs": []
    },
    {
      "cell_type": "markdown",
      "source": [
        "# **Sample function statment**"
      ],
      "metadata": {
        "id": "R7fV3xfMnF_x"
      }
    },
    {
      "cell_type": "code",
      "source": [
        "d# we are back to where we started with hello world but using a function\n",
        "def hello_world(i):\n",
        "  for i in range(i):\n",
        "    print(f\"hello world,{i} times\")"
      ],
      "metadata": {
        "id": "2sVwHjaom5ND"
      },
      "execution_count": null,
      "outputs": []
    }
  ]
}